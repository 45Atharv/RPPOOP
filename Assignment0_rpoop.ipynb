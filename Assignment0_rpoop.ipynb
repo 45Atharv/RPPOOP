{
 "cells": [
  {
   "cell_type": "code",
   "execution_count": 1,
   "metadata": {},
   "outputs": [
    {
     "name": "stdout",
     "output_type": "stream",
     "text": [
      "Perimeter of rectangle is= 30 units\n",
      "\n",
      "Area of rectangle is= 50 sq.units\n",
      "\n"
     ]
    }
   ],
   "source": [
    "import math\n",
    "\n",
    "class Shape:\n",
    "    def __init__(self,no_sides,side_lengths):\n",
    "        self.no_sides = no_sides\n",
    "        self.side_lengths = side_lengths\n",
    "        \n",
    "    def perimeter(self):\n",
    "        return sum(self.side_lengths)\n",
    "       \n",
    "class Rectangle(Shape):\n",
    "    def __init__(self,l,w):\n",
    "        super().__init__(4,[l,w,l,w])\n",
    "        self.l = l\n",
    "        self.w = w\n",
    "        \n",
    "    def area(self):\n",
    "        return self.l*self.w\n",
    "    \n",
    "a= int(input(\"Enter length :\"))\n",
    "b= int(input(\"Enter breadth :\"))\n",
    "R=Rectangle(a,b)\n",
    "print(\"Perimeter of rectangle is=\",R.perimeter(),\"units\\n\")\n",
    "print(\"Area of rectangle is=\",R.area(),\"sq.units\\n\")\n"
   ]
  },
  {
   "cell_type": "code",
   "execution_count": null,
   "metadata": {},
   "outputs": [],
   "source": []
  },
  {
   "cell_type": "code",
   "execution_count": null,
   "metadata": {},
   "outputs": [],
   "source": []
  }
 ],
 "metadata": {
  "kernelspec": {
   "display_name": "Python 3",
   "language": "python",
   "name": "python3"
  },
  "language_info": {
   "codemirror_mode": {
    "name": "ipython",
    "version": 3
   },
   "file_extension": ".py",
   "mimetype": "text/x-python",
   "name": "python",
   "nbconvert_exporter": "python",
   "pygments_lexer": "ipython3",
   "version": "3.8.5"
  }
 },
 "nbformat": 4,
 "nbformat_minor": 4
}
