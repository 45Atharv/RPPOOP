{
 "cells": [
  {
   "cell_type": "code",
   "execution_count": 11,
   "metadata": {},
   "outputs": [],
   "source": [
    "import tkinter as tk\n",
    "\n",
    "root = tk.Tk()\n",
    "root.title(\"Colour labels\")\n",
    "root.geometry(\"400x400\")\n",
    "\n",
    "\n",
    "label1 = tk.Label(root, text=\"Label 1\", bg=\"pink\",fg=\"black\")\n",
    "label2 = tk.Label(root, text=\"Label 2\", bg=\"orange\", fg=\"black\")\n",
    "\n",
    "label1.pack(fill=tk.BOTH, expand=True)\n",
    "label2.pack(fill=tk.BOTH, expand=True)\n",
    "\n",
    "root.mainloop()\n"
   ]
  },
  {
   "cell_type": "code",
   "execution_count": null,
   "metadata": {},
   "outputs": [],
   "source": []
  }
 ],
 "metadata": {
  "kernelspec": {
   "display_name": "Python 3",
   "language": "python",
   "name": "python3"
  },
  "language_info": {
   "codemirror_mode": {
    "name": "ipython",
    "version": 3
   },
   "file_extension": ".py",
   "mimetype": "text/x-python",
   "name": "python",
   "nbconvert_exporter": "python",
   "pygments_lexer": "ipython3",
   "version": "3.8.5"
  }
 },
 "nbformat": 4,
 "nbformat_minor": 4
}
