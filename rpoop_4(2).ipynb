{
 "cells": [
  {
   "cell_type": "code",
   "execution_count": 6,
   "metadata": {},
   "outputs": [],
   "source": [
    "from tkinter import *  \n",
    "\n",
    "  \n",
    "top = Tk()\n",
    "top.title(\"MenuBar\")\n",
    "\n",
    "menubar = Menu(top)   #menubar creation\n",
    "menubar.add_command(label=\"First\", command=None)\n",
    "menubar.add_command(label=\"Second\", command=None)\n",
    "menubar.add_command(label=\"third\", command=None)\n",
    "\n",
    "file = Menu(menubar, tearoff = 0)\n",
    "menubar.add_cascade(label ='File', menu = file)\n",
    "file.add_command(label ='New File', command = None)\n",
    "file.add_command(label ='Open...', command = None)\n",
    "file.add_command(label ='Save', command = None)\n",
    "file.add_command(label ='Exit', command = top.destroy)\n",
    "\n",
    "top.config(menu=menubar)\n",
    "  \n",
    "top.mainloop()"
   ]
  },
  {
   "cell_type": "code",
   "execution_count": null,
   "metadata": {},
   "outputs": [],
   "source": []
  }
 ],
 "metadata": {
  "kernelspec": {
   "display_name": "Python 3",
   "language": "python",
   "name": "python3"
  },
  "language_info": {
   "codemirror_mode": {
    "name": "ipython",
    "version": 3
   },
   "file_extension": ".py",
   "mimetype": "text/x-python",
   "name": "python",
   "nbconvert_exporter": "python",
   "pygments_lexer": "ipython3",
   "version": "3.8.5"
  }
 },
 "nbformat": 4,
 "nbformat_minor": 4
}
